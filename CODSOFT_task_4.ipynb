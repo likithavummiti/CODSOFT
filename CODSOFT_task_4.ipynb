{
  "nbformat": 4,
  "nbformat_minor": 0,
  "metadata": {
    "colab": {
      "provenance": [],
      "include_colab_link": true
    },
    "kernelspec": {
      "name": "python3",
      "display_name": "Python 3"
    },
    "language_info": {
      "name": "python"
    }
  },
  "cells": [
    {
      "cell_type": "markdown",
      "metadata": {
        "id": "view-in-github",
        "colab_type": "text"
      },
      "source": [
        "<a href=\"https://colab.research.google.com/github/likithavummiti/CODSOFT/blob/main/CODSOFT_task_4.ipynb\" target=\"_parent\"><img src=\"https://colab.research.google.com/assets/colab-badge.svg\" alt=\"Open In Colab\"/></a>"
      ]
    },
    {
      "cell_type": "code",
      "execution_count": null,
      "metadata": {
        "id": "z-EB08I7UWCG"
      },
      "outputs": [],
      "source": []
    },
    {
      "cell_type": "code",
      "execution_count": null,
      "metadata": {
        "id": "I-T-nHu6zzfT"
      },
      "outputs": [],
      "source": [
        "import random\n",
        "options = (\"rock\", \"paper\", \"scissors\")\n",
        "running = True\n",
        "while running:\n",
        "    player = None\n",
        "    computer = random.choice(options)\n",
        "    while player not in options:\n",
        "        player = input(\"Enter a choice (rock, paper, scissors): \")\n",
        "    print(f\"Player: {player}\")\n",
        "    print(f\"Computer: {computer}\")\n",
        "    if player == computer:\n",
        "        print(\"It's a tie!\")\n",
        "    elif player == \"rock\" and computer ==\"scissors\":\n",
        "        print(\"You Win!\")\n",
        "    elif player == \"scissors\" and computer ==\"paper\":\n",
        "        print(\"You Win!\")\n",
        "    elif player ==  \"paper\" and computer ==\"rock\":\n",
        "        print(\"You Win!\")\n",
        "    else:\n",
        "        print(\"You Lose!\")\n",
        "    play_again = input(\"Play Again? (y/n): \").lower()\n",
        "    if not play_again == \"y\":\n",
        "        running = False\n",
        "print(\"Thanks For Playing!\")"
      ]
    }
  ]
}