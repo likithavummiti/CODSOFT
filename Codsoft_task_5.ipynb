{
  "nbformat": 4,
  "nbformat_minor": 0,
  "metadata": {
    "colab": {
      "provenance": [],
      "include_colab_link": true
    },
    "kernelspec": {
      "name": "python3",
      "display_name": "Python 3"
    },
    "language_info": {
      "name": "python"
    }
  },
  "cells": [
    {
      "cell_type": "markdown",
      "metadata": {
        "id": "view-in-github",
        "colab_type": "text"
      },
      "source": [
        "<a href=\"https://colab.research.google.com/github/likithavummiti/CODSOFT/blob/main/Codsoft_task_5.ipynb\" target=\"_parent\"><img src=\"https://colab.research.google.com/assets/colab-badge.svg\" alt=\"Open In Colab\"/></a>"
      ]
    },
    {
      "cell_type": "code",
      "execution_count": null,
      "metadata": {
        "id": "Qz3ZwdD7VEuc"
      },
      "outputs": [],
      "source": []
    },
    {
      "cell_type": "code",
      "source": [
        "class Contact:\n",
        "    def __init__(self, name, phone, email, address):\n",
        "        self.name = name\n",
        "        self.phone = phone\n",
        "        self.email = email\n",
        "        self.address = address\n",
        "\n",
        "class ContactBook:\n",
        "    def __init__(self):\n",
        "        self.contacts = []\n",
        "\n",
        "    def add_contact(self, contact):\n",
        "        self.contacts.append(contact)\n",
        "\n",
        "    def view_contacts(self):\n",
        "        for idx, contact in enumerate(self.contacts, start=1):\n",
        "            print(f\"{idx}. {contact.name}: {contact.phone}\")\n",
        "\n",
        "    def search_contact(self, search_term):\n",
        "        search_results = []\n",
        "        for contact in self.contacts:\n",
        "            if search_term.lower() in contact.name.lower() or search_term in contact.phone:\n",
        "                search_results.append(contact)\n",
        "        return search_results\n",
        "\n",
        "    def update_contact(self, index, new_contact):\n",
        "        self.contacts[index] = new_contact\n",
        "\n",
        "    def delete_contact(self, index):\n",
        "        del self.contacts[index]\n",
        "\n",
        "def main():\n",
        "    contact_book = ContactBook()\n",
        "\n",
        "    while True:\n",
        "        print(\"Contact Book Menu:\")\n",
        "        print(\"1. Add Contact\")\n",
        "        print(\"2. View Contacts\")\n",
        "        print(\"3. Search Contact\")\n",
        "        print(\"4. Update Contact\")\n",
        "        print(\"5. Delete Contact\")\n",
        "        print(\"6. Exit\")\n",
        "\n",
        "        choice = input(\"Enter your choice: \")\n",
        "\n",
        "        if choice == '1':\n",
        "            name = input(\"Enter name: \")\n",
        "            phone = input(\"Enter phone number: \")\n",
        "            email = input(\"Enter email: \")\n",
        "            address = input(\"Enter address: \")\n",
        "            contact = Contact(name, phone, email, address)\n",
        "            contact_book.add_contact(contact)\n",
        "        elif choice == '2':\n",
        "            contact_book.view_contacts()\n",
        "        elif choice == '3':\n",
        "            search_term = input(\"Enter name or phone number to search: \")\n",
        "            search_results = contact_book.search_contact(search_term)\n",
        "            if search_results:\n",
        "                for idx, contact in enumerate(search_results, start=1):\n",
        "                    print(f\"{idx}. {contact.name}: {contact.phone}\")\n",
        "            else:\n",
        "                print(\"No matching contacts found.\")\n",
        "        elif choice == '4':\n",
        "            index = int(input(\"Enter index of contact to update: \")) - 1\n",
        "            if 0 <= index < len(contact_book.contacts):\n",
        "                name = input(\"Enter new name: \")\n",
        "                phone = input(\"Enter new phone number: \")\n",
        "                email = input(\"Enter new email: \")\n",
        "                address = input(\"Enter new address: \")\n",
        "                new_contact = Contact(name, phone, email, address)\n",
        "                contact_book.update_contact(index, new_contact)\n",
        "                print(\"Contact updated successfully.\")\n",
        "            else:\n",
        "                print(\"Invalid index.\")\n",
        "        elif choice == '5':\n",
        "            index = int(input(\"Enter index of contact to delete: \")) - 1\n",
        "            if 0 <= index < len(contact_book.contacts):\n",
        "                contact_book.delete_contact(index)\n",
        "                print(\"Contact deleted successfully.\")\n",
        "            else:\n",
        "                print(\"Invalid index.\")\n",
        "        elif choice == '6':\n",
        "            print(\"Exiting Contact Book.\")\n",
        "            break\n",
        "        else:\n",
        "            print(\"Invalid choice. Please select a valid option.\")\n",
        "\n",
        "if __name__ == \"__main__\":\n",
        "    main()"
      ],
      "metadata": {
        "colab": {
          "base_uri": "https://localhost:8080/"
        },
        "id": "LNPLkEVe2rVz",
        "outputId": "45e7b5b4-77d3-492f-aa22-49d93c30bd73"
      },
      "execution_count": null,
      "outputs": [
        {
          "output_type": "stream",
          "name": "stdout",
          "text": [
            "Contact Book Menu:\n",
            "1. Add Contact\n",
            "2. View Contacts\n",
            "3. Search Contact\n",
            "4. Update Contact\n",
            "5. Delete Contact\n",
            "6. Exit\n"
          ]
        }
      ]
    }
  ]
}